{
 "cells": [
  {
   "cell_type": "code",
   "execution_count": 1,
   "metadata": {},
   "outputs": [],
   "source": [
    "#-*- coding: utf-8 -*-\n",
    "import os\n",
    "import sys\n",
    "import urllib.request"
   ]
  },
  {
   "cell_type": "code",
   "execution_count": 2,
   "metadata": {},
   "outputs": [],
   "source": [
    "\n",
    "client_id = \"D33ztt59je4FoCNoFQJg\"\n",
    "client_secret = \"d7usCKCgkk\"\n",
    "url = \"https://openapi.naver.com/v1/datalab/shopping/categories\";\n",
    "body = \"{\\\"startDate\\\":\\\"2017-08-01\\\",\\\"endDate\\\":\\\"2017-09-30\\\",\\\"timeUnit\\\":\\\"month\\\",\\\"category\\\":[{\\\"name\\\":\\\"패션의류\\\",\\\"param\\\":[\\\"50000000\\\"]},{\\\"name\\\":\\\"화장품/미용\\\",\\\"param\\\":[\\\"50000002\\\"]}],\\\"device\\\":\\\"pc\\\",\\\"ages\\\":[\\\"20\\\",\\\"30\\\"],\\\"gender\\\":\\\"f\\\"}\";"
   ]
  },
  {
   "cell_type": "code",
   "execution_count": 3,
   "metadata": {},
   "outputs": [
    {
     "name": "stdout",
     "output_type": "stream",
     "text": [
      "{\"startDate\":\"2017-08-01\",\"endDate\":\"2017-09-30\",\"timeUnit\":\"month\",\"results\":[{\"title\":\"패션의류\",\"category\":[\"50000000\"],\"data\":[{\"period\":\"2017-08-01\",\"ratio\":84.01252},{\"period\":\"2017-09-01\",\"ratio\":100}]},{\"title\":\"화장품/미용\",\"category\":[\"50000002\"],\"data\":[{\"period\":\"2017-08-01\",\"ratio\":22.21162},{\"period\":\"2017-09-01\",\"ratio\":21.54278}]}]}\n"
     ]
    }
   ],
   "source": [
    "request = urllib.request.Request(url)\n",
    "request.add_header(\"X-Naver-Client-Id\",client_id)\n",
    "request.add_header(\"X-Naver-Client-Secret\",client_secret)\n",
    "request.add_header(\"Content-Type\",\"application/json\")\n",
    "response = urllib.request.urlopen(request, data=body.encode(\"utf-8\"))\n",
    "rescode = response.getcode()\n",
    "if(rescode==200):\n",
    "    response_body = response.read()\n",
    "    print(response_body.decode('utf-8'))\n",
    "else:\n",
    "    print(\"Error Code:\" + rescode)"
   ]
  },
  {
   "cell_type": "code",
   "execution_count": null,
   "metadata": {},
   "outputs": [],
   "source": []
  }
 ],
 "metadata": {
  "kernelspec": {
   "display_name": "Python 3.10.5 ('itemfinder-bA8Losuy-py3.10')",
   "language": "python",
   "name": "python3"
  },
  "language_info": {
   "codemirror_mode": {
    "name": "ipython",
    "version": 3
   },
   "file_extension": ".py",
   "mimetype": "text/x-python",
   "name": "python",
   "nbconvert_exporter": "python",
   "pygments_lexer": "ipython3",
   "version": "3.10.5"
  },
  "orig_nbformat": 4,
  "vscode": {
   "interpreter": {
    "hash": "f56c0610b1e1ee86bf22861067bc29e4dc44767a779fbd9a3c93eff687326ae6"
   }
  }
 },
 "nbformat": 4,
 "nbformat_minor": 2
}
